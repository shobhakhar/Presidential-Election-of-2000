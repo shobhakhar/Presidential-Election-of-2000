{
 "cells": [
  {
   "cell_type": "code",
   "execution_count": 5,
   "id": "b0a47787",
   "metadata": {},
   "outputs": [
    {
     "name": "stderr",
     "output_type": "stream",
     "text": [
      "Warning message:\n",
      "\"package 'Sleuth3' was built under R version 3.6.3\""
     ]
    }
   ],
   "source": [
    "# Load the a data set containing the numbers of votes for Buchanan\n",
    "# and Bush in all 67 counties in Florida.\n",
    "# install.packages('Sleuth3')\n",
    "library(Sleuth3)\n"
   ]
  },
  {
   "cell_type": "code",
   "execution_count": 7,
   "id": "fc919b37",
   "metadata": {},
   "outputs": [],
   "source": [
    "df <- ex0825"
   ]
  },
  {
   "cell_type": "code",
   "execution_count": 8,
   "id": "b7562114",
   "metadata": {},
   "outputs": [
    {
     "name": "stdout",
     "output_type": "stream",
     "text": [
      "'data.frame':\t67 obs. of  3 variables:\n",
      " $ County      : chr  \"Alachua\" \"Baker\" \"Bay\" \"Bradford\" ...\n",
      " $ Buchanan2000: int  262 73 248 65 570 789 90 182 270 186 ...\n",
      " $ Bush2000    : int  34062 5610 38637 5413 115185 177279 2873 35419 29744 41745 ...\n"
     ]
    }
   ],
   "source": [
    "str(df)"
   ]
  },
  {
   "cell_type": "code",
   "execution_count": 9,
   "id": "a0e407be",
   "metadata": {},
   "outputs": [],
   "source": [
    "attach(df)"
   ]
  },
  {
   "cell_type": "code",
   "execution_count": 10,
   "id": "fb5fe6e5",
   "metadata": {},
   "outputs": [
    {
     "data": {
      "text/html": [
       "<ol class=list-inline>\n",
       "\t<li>'Alachua'</li>\n",
       "\t<li>'Baker'</li>\n",
       "\t<li>'Bay'</li>\n",
       "\t<li>'Bradford'</li>\n",
       "\t<li>'Brevard'</li>\n",
       "\t<li>'Broward'</li>\n",
       "\t<li>'Calhoun'</li>\n",
       "\t<li>'Charlotte'</li>\n",
       "\t<li>'Citrus'</li>\n",
       "\t<li>'Clay'</li>\n",
       "\t<li>'Collier'</li>\n",
       "\t<li>'Columbia'</li>\n",
       "\t<li>'Dade'</li>\n",
       "\t<li>'De Soto'</li>\n",
       "\t<li>'Dixie'</li>\n",
       "\t<li>'Duval'</li>\n",
       "\t<li>'Escambia'</li>\n",
       "\t<li>'Flagler'</li>\n",
       "\t<li>'Franklin'</li>\n",
       "\t<li>'Gadsden'</li>\n",
       "\t<li>'Gilchrist'</li>\n",
       "\t<li>'Glades'</li>\n",
       "\t<li>'Gulf'</li>\n",
       "\t<li>'Hamilton'</li>\n",
       "\t<li>'Hardee'</li>\n",
       "\t<li>'Hendry'</li>\n",
       "\t<li>'Hernando'</li>\n",
       "\t<li>'Highlands'</li>\n",
       "\t<li>'Hillsborough'</li>\n",
       "\t<li>'Holmes'</li>\n",
       "\t<li>'Indian River'</li>\n",
       "\t<li>'Jackson'</li>\n",
       "\t<li>'Jefferson'</li>\n",
       "\t<li>'Lafayette'</li>\n",
       "\t<li>'Lake'</li>\n",
       "\t<li>'Lee'</li>\n",
       "\t<li>'Leon'</li>\n",
       "\t<li>'Levy'</li>\n",
       "\t<li>'Liberty'</li>\n",
       "\t<li>'Madison'</li>\n",
       "\t<li>'Manatee'</li>\n",
       "\t<li>'Marion'</li>\n",
       "\t<li>'Martin'</li>\n",
       "\t<li>'Monroe'</li>\n",
       "\t<li>'Nassau'</li>\n",
       "\t<li>'Okaloosa'</li>\n",
       "\t<li>'Okeechobee'</li>\n",
       "\t<li>'Orange'</li>\n",
       "\t<li>'Osceola'</li>\n",
       "\t<li>'Pasco'</li>\n",
       "\t<li>'Pinellas'</li>\n",
       "\t<li>'Polk'</li>\n",
       "\t<li>'Putnam'</li>\n",
       "\t<li>'St. Johns'</li>\n",
       "\t<li>'St. Lucie'</li>\n",
       "\t<li>'Santa Rosa'</li>\n",
       "\t<li>'Sarasota'</li>\n",
       "\t<li>'Seminole'</li>\n",
       "\t<li>'Sumter'</li>\n",
       "\t<li>'Suwannee'</li>\n",
       "\t<li>'Taylor'</li>\n",
       "\t<li>'Union'</li>\n",
       "\t<li>'Volusia'</li>\n",
       "\t<li>'Wakulla'</li>\n",
       "\t<li>'Walton'</li>\n",
       "\t<li>'Washington'</li>\n",
       "\t<li>'Palm Beach'</li>\n",
       "</ol>\n"
      ],
      "text/latex": [
       "\\begin{enumerate*}\n",
       "\\item 'Alachua'\n",
       "\\item 'Baker'\n",
       "\\item 'Bay'\n",
       "\\item 'Bradford'\n",
       "\\item 'Brevard'\n",
       "\\item 'Broward'\n",
       "\\item 'Calhoun'\n",
       "\\item 'Charlotte'\n",
       "\\item 'Citrus'\n",
       "\\item 'Clay'\n",
       "\\item 'Collier'\n",
       "\\item 'Columbia'\n",
       "\\item 'Dade'\n",
       "\\item 'De Soto'\n",
       "\\item 'Dixie'\n",
       "\\item 'Duval'\n",
       "\\item 'Escambia'\n",
       "\\item 'Flagler'\n",
       "\\item 'Franklin'\n",
       "\\item 'Gadsden'\n",
       "\\item 'Gilchrist'\n",
       "\\item 'Glades'\n",
       "\\item 'Gulf'\n",
       "\\item 'Hamilton'\n",
       "\\item 'Hardee'\n",
       "\\item 'Hendry'\n",
       "\\item 'Hernando'\n",
       "\\item 'Highlands'\n",
       "\\item 'Hillsborough'\n",
       "\\item 'Holmes'\n",
       "\\item 'Indian River'\n",
       "\\item 'Jackson'\n",
       "\\item 'Jefferson'\n",
       "\\item 'Lafayette'\n",
       "\\item 'Lake'\n",
       "\\item 'Lee'\n",
       "\\item 'Leon'\n",
       "\\item 'Levy'\n",
       "\\item 'Liberty'\n",
       "\\item 'Madison'\n",
       "\\item 'Manatee'\n",
       "\\item 'Marion'\n",
       "\\item 'Martin'\n",
       "\\item 'Monroe'\n",
       "\\item 'Nassau'\n",
       "\\item 'Okaloosa'\n",
       "\\item 'Okeechobee'\n",
       "\\item 'Orange'\n",
       "\\item 'Osceola'\n",
       "\\item 'Pasco'\n",
       "\\item 'Pinellas'\n",
       "\\item 'Polk'\n",
       "\\item 'Putnam'\n",
       "\\item 'St. Johns'\n",
       "\\item 'St. Lucie'\n",
       "\\item 'Santa Rosa'\n",
       "\\item 'Sarasota'\n",
       "\\item 'Seminole'\n",
       "\\item 'Sumter'\n",
       "\\item 'Suwannee'\n",
       "\\item 'Taylor'\n",
       "\\item 'Union'\n",
       "\\item 'Volusia'\n",
       "\\item 'Wakulla'\n",
       "\\item 'Walton'\n",
       "\\item 'Washington'\n",
       "\\item 'Palm Beach'\n",
       "\\end{enumerate*}\n"
      ],
      "text/markdown": [
       "1. 'Alachua'\n",
       "2. 'Baker'\n",
       "3. 'Bay'\n",
       "4. 'Bradford'\n",
       "5. 'Brevard'\n",
       "6. 'Broward'\n",
       "7. 'Calhoun'\n",
       "8. 'Charlotte'\n",
       "9. 'Citrus'\n",
       "10. 'Clay'\n",
       "11. 'Collier'\n",
       "12. 'Columbia'\n",
       "13. 'Dade'\n",
       "14. 'De Soto'\n",
       "15. 'Dixie'\n",
       "16. 'Duval'\n",
       "17. 'Escambia'\n",
       "18. 'Flagler'\n",
       "19. 'Franklin'\n",
       "20. 'Gadsden'\n",
       "21. 'Gilchrist'\n",
       "22. 'Glades'\n",
       "23. 'Gulf'\n",
       "24. 'Hamilton'\n",
       "25. 'Hardee'\n",
       "26. 'Hendry'\n",
       "27. 'Hernando'\n",
       "28. 'Highlands'\n",
       "29. 'Hillsborough'\n",
       "30. 'Holmes'\n",
       "31. 'Indian River'\n",
       "32. 'Jackson'\n",
       "33. 'Jefferson'\n",
       "34. 'Lafayette'\n",
       "35. 'Lake'\n",
       "36. 'Lee'\n",
       "37. 'Leon'\n",
       "38. 'Levy'\n",
       "39. 'Liberty'\n",
       "40. 'Madison'\n",
       "41. 'Manatee'\n",
       "42. 'Marion'\n",
       "43. 'Martin'\n",
       "44. 'Monroe'\n",
       "45. 'Nassau'\n",
       "46. 'Okaloosa'\n",
       "47. 'Okeechobee'\n",
       "48. 'Orange'\n",
       "49. 'Osceola'\n",
       "50. 'Pasco'\n",
       "51. 'Pinellas'\n",
       "52. 'Polk'\n",
       "53. 'Putnam'\n",
       "54. 'St. Johns'\n",
       "55. 'St. Lucie'\n",
       "56. 'Santa Rosa'\n",
       "57. 'Sarasota'\n",
       "58. 'Seminole'\n",
       "59. 'Sumter'\n",
       "60. 'Suwannee'\n",
       "61. 'Taylor'\n",
       "62. 'Union'\n",
       "63. 'Volusia'\n",
       "64. 'Wakulla'\n",
       "65. 'Walton'\n",
       "66. 'Washington'\n",
       "67. 'Palm Beach'\n",
       "\n",
       "\n"
      ],
      "text/plain": [
       " [1] \"Alachua\"      \"Baker\"        \"Bay\"          \"Bradford\"     \"Brevard\"     \n",
       " [6] \"Broward\"      \"Calhoun\"      \"Charlotte\"    \"Citrus\"       \"Clay\"        \n",
       "[11] \"Collier\"      \"Columbia\"     \"Dade\"         \"De Soto\"      \"Dixie\"       \n",
       "[16] \"Duval\"        \"Escambia\"     \"Flagler\"      \"Franklin\"     \"Gadsden\"     \n",
       "[21] \"Gilchrist\"    \"Glades\"       \"Gulf\"         \"Hamilton\"     \"Hardee\"      \n",
       "[26] \"Hendry\"       \"Hernando\"     \"Highlands\"    \"Hillsborough\" \"Holmes\"      \n",
       "[31] \"Indian River\" \"Jackson\"      \"Jefferson\"    \"Lafayette\"    \"Lake\"        \n",
       "[36] \"Lee\"          \"Leon\"         \"Levy\"         \"Liberty\"      \"Madison\"     \n",
       "[41] \"Manatee\"      \"Marion\"       \"Martin\"       \"Monroe\"       \"Nassau\"      \n",
       "[46] \"Okaloosa\"     \"Okeechobee\"   \"Orange\"       \"Osceola\"      \"Pasco\"       \n",
       "[51] \"Pinellas\"     \"Polk\"         \"Putnam\"       \"St. Johns\"    \"St. Lucie\"   \n",
       "[56] \"Santa Rosa\"   \"Sarasota\"     \"Seminole\"     \"Sumter\"       \"Suwannee\"    \n",
       "[61] \"Taylor\"       \"Union\"        \"Volusia\"      \"Wakulla\"      \"Walton\"      \n",
       "[66] \"Washington\"   \"Palm Beach\"  "
      ]
     },
     "metadata": {},
     "output_type": "display_data"
    }
   ],
   "source": [
    "County"
   ]
  },
  {
   "cell_type": "code",
   "execution_count": 11,
   "id": "6921b962",
   "metadata": {},
   "outputs": [
    {
     "data": {
      "text/html": [
       "<ol class=list-inline>\n",
       "\t<li>262</li>\n",
       "\t<li>73</li>\n",
       "\t<li>248</li>\n",
       "\t<li>65</li>\n",
       "\t<li>570</li>\n",
       "\t<li>789</li>\n",
       "\t<li>90</li>\n",
       "\t<li>182</li>\n",
       "\t<li>270</li>\n",
       "\t<li>186</li>\n",
       "\t<li>122</li>\n",
       "\t<li>89</li>\n",
       "\t<li>561</li>\n",
       "\t<li>36</li>\n",
       "\t<li>29</li>\n",
       "\t<li>650</li>\n",
       "\t<li>504</li>\n",
       "\t<li>83</li>\n",
       "\t<li>33</li>\n",
       "\t<li>39</li>\n",
       "\t<li>29</li>\n",
       "\t<li>9</li>\n",
       "\t<li>71</li>\n",
       "\t<li>24</li>\n",
       "\t<li>30</li>\n",
       "\t<li>22</li>\n",
       "\t<li>242</li>\n",
       "\t<li>99</li>\n",
       "\t<li>836</li>\n",
       "\t<li>76</li>\n",
       "\t<li>105</li>\n",
       "\t<li>102</li>\n",
       "\t<li>29</li>\n",
       "\t<li>10</li>\n",
       "\t<li>289</li>\n",
       "\t<li>305</li>\n",
       "\t<li>282</li>\n",
       "\t<li>67</li>\n",
       "\t<li>39</li>\n",
       "\t<li>29</li>\n",
       "\t<li>272</li>\n",
       "\t<li>563</li>\n",
       "\t<li>108</li>\n",
       "\t<li>47</li>\n",
       "\t<li>90</li>\n",
       "\t<li>267</li>\n",
       "\t<li>43</li>\n",
       "\t<li>446</li>\n",
       "\t<li>145</li>\n",
       "\t<li>570</li>\n",
       "\t<li>1010</li>\n",
       "\t<li>538</li>\n",
       "\t<li>147</li>\n",
       "\t<li>229</li>\n",
       "\t<li>124</li>\n",
       "\t<li>311</li>\n",
       "\t<li>305</li>\n",
       "\t<li>194</li>\n",
       "\t<li>114</li>\n",
       "\t<li>108</li>\n",
       "\t<li>27</li>\n",
       "\t<li>26</li>\n",
       "\t<li>396</li>\n",
       "\t<li>46</li>\n",
       "\t<li>120</li>\n",
       "\t<li>88</li>\n",
       "\t<li>3407</li>\n",
       "</ol>\n"
      ],
      "text/latex": [
       "\\begin{enumerate*}\n",
       "\\item 262\n",
       "\\item 73\n",
       "\\item 248\n",
       "\\item 65\n",
       "\\item 570\n",
       "\\item 789\n",
       "\\item 90\n",
       "\\item 182\n",
       "\\item 270\n",
       "\\item 186\n",
       "\\item 122\n",
       "\\item 89\n",
       "\\item 561\n",
       "\\item 36\n",
       "\\item 29\n",
       "\\item 650\n",
       "\\item 504\n",
       "\\item 83\n",
       "\\item 33\n",
       "\\item 39\n",
       "\\item 29\n",
       "\\item 9\n",
       "\\item 71\n",
       "\\item 24\n",
       "\\item 30\n",
       "\\item 22\n",
       "\\item 242\n",
       "\\item 99\n",
       "\\item 836\n",
       "\\item 76\n",
       "\\item 105\n",
       "\\item 102\n",
       "\\item 29\n",
       "\\item 10\n",
       "\\item 289\n",
       "\\item 305\n",
       "\\item 282\n",
       "\\item 67\n",
       "\\item 39\n",
       "\\item 29\n",
       "\\item 272\n",
       "\\item 563\n",
       "\\item 108\n",
       "\\item 47\n",
       "\\item 90\n",
       "\\item 267\n",
       "\\item 43\n",
       "\\item 446\n",
       "\\item 145\n",
       "\\item 570\n",
       "\\item 1010\n",
       "\\item 538\n",
       "\\item 147\n",
       "\\item 229\n",
       "\\item 124\n",
       "\\item 311\n",
       "\\item 305\n",
       "\\item 194\n",
       "\\item 114\n",
       "\\item 108\n",
       "\\item 27\n",
       "\\item 26\n",
       "\\item 396\n",
       "\\item 46\n",
       "\\item 120\n",
       "\\item 88\n",
       "\\item 3407\n",
       "\\end{enumerate*}\n"
      ],
      "text/markdown": [
       "1. 262\n",
       "2. 73\n",
       "3. 248\n",
       "4. 65\n",
       "5. 570\n",
       "6. 789\n",
       "7. 90\n",
       "8. 182\n",
       "9. 270\n",
       "10. 186\n",
       "11. 122\n",
       "12. 89\n",
       "13. 561\n",
       "14. 36\n",
       "15. 29\n",
       "16. 650\n",
       "17. 504\n",
       "18. 83\n",
       "19. 33\n",
       "20. 39\n",
       "21. 29\n",
       "22. 9\n",
       "23. 71\n",
       "24. 24\n",
       "25. 30\n",
       "26. 22\n",
       "27. 242\n",
       "28. 99\n",
       "29. 836\n",
       "30. 76\n",
       "31. 105\n",
       "32. 102\n",
       "33. 29\n",
       "34. 10\n",
       "35. 289\n",
       "36. 305\n",
       "37. 282\n",
       "38. 67\n",
       "39. 39\n",
       "40. 29\n",
       "41. 272\n",
       "42. 563\n",
       "43. 108\n",
       "44. 47\n",
       "45. 90\n",
       "46. 267\n",
       "47. 43\n",
       "48. 446\n",
       "49. 145\n",
       "50. 570\n",
       "51. 1010\n",
       "52. 538\n",
       "53. 147\n",
       "54. 229\n",
       "55. 124\n",
       "56. 311\n",
       "57. 305\n",
       "58. 194\n",
       "59. 114\n",
       "60. 108\n",
       "61. 27\n",
       "62. 26\n",
       "63. 396\n",
       "64. 46\n",
       "65. 120\n",
       "66. 88\n",
       "67. 3407\n",
       "\n",
       "\n"
      ],
      "text/plain": [
       " [1]  262   73  248   65  570  789   90  182  270  186  122   89  561   36   29\n",
       "[16]  650  504   83   33   39   29    9   71   24   30   22  242   99  836   76\n",
       "[31]  105  102   29   10  289  305  282   67   39   29  272  563  108   47   90\n",
       "[46]  267   43  446  145  570 1010  538  147  229  124  311  305  194  114  108\n",
       "[61]   27   26  396   46  120   88 3407"
      ]
     },
     "metadata": {},
     "output_type": "display_data"
    }
   ],
   "source": [
    "Buchanan2000"
   ]
  },
  {
   "cell_type": "code",
   "execution_count": 12,
   "id": "d4a40181",
   "metadata": {},
   "outputs": [
    {
     "data": {
      "text/html": [
       "<ol class=list-inline>\n",
       "\t<li>34062</li>\n",
       "\t<li>5610</li>\n",
       "\t<li>38637</li>\n",
       "\t<li>5413</li>\n",
       "\t<li>115185</li>\n",
       "\t<li>177279</li>\n",
       "\t<li>2873</li>\n",
       "\t<li>35419</li>\n",
       "\t<li>29744</li>\n",
       "\t<li>41745</li>\n",
       "\t<li>60426</li>\n",
       "\t<li>10964</li>\n",
       "\t<li>289456</li>\n",
       "\t<li>4256</li>\n",
       "\t<li>2698</li>\n",
       "\t<li>152082</li>\n",
       "\t<li>73029</li>\n",
       "\t<li>12608</li>\n",
       "\t<li>2448</li>\n",
       "\t<li>4750</li>\n",
       "\t<li>3300</li>\n",
       "\t<li>1840</li>\n",
       "\t<li>3546</li>\n",
       "\t<li>2153</li>\n",
       "\t<li>3764</li>\n",
       "\t<li>4743</li>\n",
       "\t<li>30646</li>\n",
       "\t<li>20196</li>\n",
       "\t<li>176967</li>\n",
       "\t<li>4985</li>\n",
       "\t<li>28627</li>\n",
       "\t<li>9138</li>\n",
       "\t<li>2481</li>\n",
       "\t<li>1669</li>\n",
       "\t<li>49963</li>\n",
       "\t<li>106141</li>\n",
       "\t<li>39053</li>\n",
       "\t<li>6860</li>\n",
       "\t<li>1316</li>\n",
       "\t<li>3038</li>\n",
       "\t<li>57948</li>\n",
       "\t<li>55135</li>\n",
       "\t<li>33864</li>\n",
       "\t<li>16059</li>\n",
       "\t<li>16404</li>\n",
       "\t<li>52043</li>\n",
       "\t<li>5058</li>\n",
       "\t<li>134476</li>\n",
       "\t<li>26216</li>\n",
       "\t<li>68581</li>\n",
       "\t<li>184312</li>\n",
       "\t<li>90101</li>\n",
       "\t<li>13439</li>\n",
       "\t<li>39497</li>\n",
       "\t<li>34705</li>\n",
       "\t<li>36248</li>\n",
       "\t<li>83100</li>\n",
       "\t<li>75293</li>\n",
       "\t<li>12126</li>\n",
       "\t<li>8014</li>\n",
       "\t<li>4051</li>\n",
       "\t<li>2326</li>\n",
       "\t<li>82214</li>\n",
       "\t<li>4511</li>\n",
       "\t<li>12176</li>\n",
       "\t<li>4983</li>\n",
       "\t<li>152846</li>\n",
       "</ol>\n"
      ],
      "text/latex": [
       "\\begin{enumerate*}\n",
       "\\item 34062\n",
       "\\item 5610\n",
       "\\item 38637\n",
       "\\item 5413\n",
       "\\item 115185\n",
       "\\item 177279\n",
       "\\item 2873\n",
       "\\item 35419\n",
       "\\item 29744\n",
       "\\item 41745\n",
       "\\item 60426\n",
       "\\item 10964\n",
       "\\item 289456\n",
       "\\item 4256\n",
       "\\item 2698\n",
       "\\item 152082\n",
       "\\item 73029\n",
       "\\item 12608\n",
       "\\item 2448\n",
       "\\item 4750\n",
       "\\item 3300\n",
       "\\item 1840\n",
       "\\item 3546\n",
       "\\item 2153\n",
       "\\item 3764\n",
       "\\item 4743\n",
       "\\item 30646\n",
       "\\item 20196\n",
       "\\item 176967\n",
       "\\item 4985\n",
       "\\item 28627\n",
       "\\item 9138\n",
       "\\item 2481\n",
       "\\item 1669\n",
       "\\item 49963\n",
       "\\item 106141\n",
       "\\item 39053\n",
       "\\item 6860\n",
       "\\item 1316\n",
       "\\item 3038\n",
       "\\item 57948\n",
       "\\item 55135\n",
       "\\item 33864\n",
       "\\item 16059\n",
       "\\item 16404\n",
       "\\item 52043\n",
       "\\item 5058\n",
       "\\item 134476\n",
       "\\item 26216\n",
       "\\item 68581\n",
       "\\item 184312\n",
       "\\item 90101\n",
       "\\item 13439\n",
       "\\item 39497\n",
       "\\item 34705\n",
       "\\item 36248\n",
       "\\item 83100\n",
       "\\item 75293\n",
       "\\item 12126\n",
       "\\item 8014\n",
       "\\item 4051\n",
       "\\item 2326\n",
       "\\item 82214\n",
       "\\item 4511\n",
       "\\item 12176\n",
       "\\item 4983\n",
       "\\item 152846\n",
       "\\end{enumerate*}\n"
      ],
      "text/markdown": [
       "1. 34062\n",
       "2. 5610\n",
       "3. 38637\n",
       "4. 5413\n",
       "5. 115185\n",
       "6. 177279\n",
       "7. 2873\n",
       "8. 35419\n",
       "9. 29744\n",
       "10. 41745\n",
       "11. 60426\n",
       "12. 10964\n",
       "13. 289456\n",
       "14. 4256\n",
       "15. 2698\n",
       "16. 152082\n",
       "17. 73029\n",
       "18. 12608\n",
       "19. 2448\n",
       "20. 4750\n",
       "21. 3300\n",
       "22. 1840\n",
       "23. 3546\n",
       "24. 2153\n",
       "25. 3764\n",
       "26. 4743\n",
       "27. 30646\n",
       "28. 20196\n",
       "29. 176967\n",
       "30. 4985\n",
       "31. 28627\n",
       "32. 9138\n",
       "33. 2481\n",
       "34. 1669\n",
       "35. 49963\n",
       "36. 106141\n",
       "37. 39053\n",
       "38. 6860\n",
       "39. 1316\n",
       "40. 3038\n",
       "41. 57948\n",
       "42. 55135\n",
       "43. 33864\n",
       "44. 16059\n",
       "45. 16404\n",
       "46. 52043\n",
       "47. 5058\n",
       "48. 134476\n",
       "49. 26216\n",
       "50. 68581\n",
       "51. 184312\n",
       "52. 90101\n",
       "53. 13439\n",
       "54. 39497\n",
       "55. 34705\n",
       "56. 36248\n",
       "57. 83100\n",
       "58. 75293\n",
       "59. 12126\n",
       "60. 8014\n",
       "61. 4051\n",
       "62. 2326\n",
       "63. 82214\n",
       "64. 4511\n",
       "65. 12176\n",
       "66. 4983\n",
       "67. 152846\n",
       "\n",
       "\n"
      ],
      "text/plain": [
       " [1]  34062   5610  38637   5413 115185 177279   2873  35419  29744  41745\n",
       "[11]  60426  10964 289456   4256   2698 152082  73029  12608   2448   4750\n",
       "[21]   3300   1840   3546   2153   3764   4743  30646  20196 176967   4985\n",
       "[31]  28627   9138   2481   1669  49963 106141  39053   6860   1316   3038\n",
       "[41]  57948  55135  33864  16059  16404  52043   5058 134476  26216  68581\n",
       "[51] 184312  90101  13439  39497  34705  36248  83100  75293  12126   8014\n",
       "[61]   4051   2326  82214   4511  12176   4983 152846"
      ]
     },
     "metadata": {},
     "output_type": "display_data"
    }
   ],
   "source": [
    "Bush2000"
   ]
  },
  {
   "cell_type": "code",
   "execution_count": 13,
   "id": "e73187f2",
   "metadata": {},
   "outputs": [
    {
     "data": {
      "text/html": [
       "<table>\n",
       "<thead><tr><th scope=col>County</th><th scope=col>Buchanan2000</th><th scope=col>Bush2000</th></tr></thead>\n",
       "<tbody>\n",
       "\t<tr><td>Alachua </td><td>262     </td><td> 34062  </td></tr>\n",
       "\t<tr><td>Baker   </td><td> 73     </td><td>  5610  </td></tr>\n",
       "\t<tr><td>Bay     </td><td>248     </td><td> 38637  </td></tr>\n",
       "\t<tr><td>Bradford</td><td> 65     </td><td>  5413  </td></tr>\n",
       "\t<tr><td>Brevard </td><td>570     </td><td>115185  </td></tr>\n",
       "\t<tr><td>Broward </td><td>789     </td><td>177279  </td></tr>\n",
       "</tbody>\n",
       "</table>\n"
      ],
      "text/latex": [
       "\\begin{tabular}{r|lll}\n",
       " County & Buchanan2000 & Bush2000\\\\\n",
       "\\hline\n",
       "\t Alachua  & 262      &  34062  \\\\\n",
       "\t Baker    &  73      &   5610  \\\\\n",
       "\t Bay      & 248      &  38637  \\\\\n",
       "\t Bradford &  65      &   5413  \\\\\n",
       "\t Brevard  & 570      & 115185  \\\\\n",
       "\t Broward  & 789      & 177279  \\\\\n",
       "\\end{tabular}\n"
      ],
      "text/markdown": [
       "\n",
       "| County | Buchanan2000 | Bush2000 |\n",
       "|---|---|---|\n",
       "| Alachua  | 262      |  34062   |\n",
       "| Baker    |  73      |   5610   |\n",
       "| Bay      | 248      |  38637   |\n",
       "| Bradford |  65      |   5413   |\n",
       "| Brevard  | 570      | 115185   |\n",
       "| Broward  | 789      | 177279   |\n",
       "\n"
      ],
      "text/plain": [
       "  County   Buchanan2000 Bush2000\n",
       "1 Alachua  262           34062  \n",
       "2 Baker     73            5610  \n",
       "3 Bay      248           38637  \n",
       "4 Bradford  65            5413  \n",
       "5 Brevard  570          115185  \n",
       "6 Broward  789          177279  "
      ]
     },
     "metadata": {},
     "output_type": "display_data"
    }
   ],
   "source": [
    "head(df)"
   ]
  },
  {
   "cell_type": "code",
   "execution_count": 20,
   "id": "761cf413",
   "metadata": {},
   "outputs": [
    {
     "data": {
      "image/png": "[encoded data removed]",
      "text/plain": [
       "Plot with title \"Votes for George W. Bush and Pat Buchanan in all Florida counties\""
      ]
     },
     "metadata": {},
     "output_type": "display_data"
    }
   ],
   "source": [
    "plot(Bush2000, Buchanan2000, col = \"blue\", \n",
    "     main = \"Votes for George W. Bush and Pat Buchanan in all Florida counties\") # scatter plots\n"
   ]
  },
  {
   "cell_type": "code",
   "execution_count": 38,
   "id": "ff502e22",
   "metadata": {},
   "outputs": [],
   "source": [
    "library(ggplot2)\n",
    "library(ggrepel)"
   ]
  },
  {
   "cell_type": "code",
   "execution_count": 37,
   "id": "8dd847ad",
   "metadata": {},
   "outputs": [
    {
     "data": {
      "image/png": "[encoded data removed]",
      "text/plain": [
       "plot without title"
      ]
     },
     "metadata": {},
     "output_type": "display_data"
    }
   ],
   "source": [
    "plot1 <- ggplot(df, aes(x = Bush2000, y = Buchanan2000)) +\n",
    "    geom_point(color = \" blue\") +\n",
    "    geom_text_repel(aes(label = County), size = 4, data = subset(df, Buchanan2000 > 3000)) +\n",
    "    labs(title = \"Votes for George W. Bush and Pat Buchanan in all Florida counties\", \n",
    "       x=\"Number of Votes for Bush\", y=\"Number of Votes for Buchanan\") \n",
    "plot1 # Scatter plot"
   ]
  },
  {
   "cell_type": "markdown",
   "id": "59f8a0ca",
   "metadata": {},
   "source": [
    "# Clearly, it shows that the value from Palm Beach is a potential outlier."
   ]
  },
  {
   "cell_type": "code",
   "execution_count": 43,
   "id": "7d049cf8",
   "metadata": {},
   "outputs": [
    {
     "name": "stderr",
     "output_type": "stream",
     "text": [
      "Registered S3 method overwritten by 'rvest':\n",
      "  method            from\n",
      "  read_xml.response xml2\n",
      "-- Attaching packages --------------------------------------- tidyverse 1.2.1 --\n",
      "v tibble  2.1.1       v purrr   0.3.2  \n",
      "v tidyr   0.8.3       v dplyr   0.8.0.1\n",
      "v readr   1.3.1       v stringr 1.4.0  \n",
      "v tibble  2.1.1       v forcats 0.4.0  \n",
      "-- Conflicts ------------------------------------------ tidyverse_conflicts() --\n",
      "x dplyr::filter() masks stats::filter()\n",
      "x dplyr::lag()    masks stats::lag()\n"
     ]
    }
   ],
   "source": [
    "# filter the data from Palm Beach County\n",
    "library(tidyverse)\n",
    "df1 <- df %>%\n",
    "filter(County !=\"Palm Beach\")"
   ]
  },
  {
   "cell_type": "code",
   "execution_count": 44,
   "id": "1b76f470",
   "metadata": {},
   "outputs": [
    {
     "name": "stdout",
     "output_type": "stream",
     "text": [
      "'data.frame':\t66 obs. of  3 variables:\n",
      " $ County      : chr  \"Alachua\" \"Baker\" \"Bay\" \"Bradford\" ...\n",
      " $ Buchanan2000: int  262 73 248 65 570 789 90 182 270 186 ...\n",
      " $ Bush2000    : int  34062 5610 38637 5413 115185 177279 2873 35419 29744 41745 ...\n"
     ]
    }
   ],
   "source": [
    "str(df1)"
   ]
  },
  {
   "cell_type": "code",
   "execution_count": 45,
   "id": "6fa781f0",
   "metadata": {},
   "outputs": [
    {
     "data": {
      "image/png": "[encoded data removed]",
      "text/plain": [
       "Plot with title \"Votes for George W. Bush and Pat Buchanan in all Florida counties\""
      ]
     },
     "metadata": {},
     "output_type": "display_data"
    }
   ],
   "source": [
    "plot(df1$Bush2000, df1$Buchanan2000, col = \"blue\", \n",
    "     main = \"Votes for George W. Bush and Pat Buchanan in all Florida counties\") # scatter plots"
   ]
  },
  {
   "cell_type": "markdown",
   "id": "26034e70",
   "metadata": {},
   "source": [
    "# Task 2: Analyze the data without Palm Beach County results to obtain an equation for predicting Buchanan votes from Bush votes."
   ]
  },
  {
   "cell_type": "code",
   "execution_count": 46,
   "id": "eb636795",
   "metadata": {},
   "outputs": [],
   "source": [
    "# fit Linear REgression\n",
    "fit <- lm(Buchanan2000~Bush2000, data = df1)"
   ]
  },
  {
   "cell_type": "code",
   "execution_count": 47,
   "id": "ff9c971c",
   "metadata": {},
   "outputs": [
    {
     "data": {
      "text/plain": [
       "\n",
       "Call:\n",
       "lm(formula = Buchanan2000 ~ Bush2000, data = df1)\n",
       "\n",
       "Residuals:\n",
       "    Min      1Q  Median      3Q     Max \n",
       "-512.43  -47.97  -17.09   41.78  305.45 \n",
       "\n",
       "Coefficients:\n",
       "             Estimate Std. Error t value Pr(>|t|)    \n",
       "(Intercept) 6.557e+01  1.733e+01   3.784 0.000343 ***\n",
       "Bush2000    3.482e-03  2.501e-04  13.923  < 2e-16 ***\n",
       "---\n",
       "Signif. codes:  0 '***' 0.001 '**' 0.01 '*' 0.05 '.' 0.1 ' ' 1\n",
       "\n",
       "Residual standard error: 112.5 on 64 degrees of freedom\n",
       "Multiple R-squared:  0.7518,\tAdjusted R-squared:  0.7479 \n",
       "F-statistic: 193.8 on 1 and 64 DF,  p-value: < 2.2e-16\n"
      ]
     },
     "metadata": {},
     "output_type": "display_data"
    }
   ],
   "source": [
    "summary(fit)"
   ]
  },
  {
   "cell_type": "code",
   "execution_count": 49,
   "id": "c2280317",
   "metadata": {},
   "outputs": [
    {
     "data": {
      "image/png": "[encoded data removed]",
      "text/plain": [
       "Plot with title \"Votes for George W. Bush and Pat Buchanan in all Florida counties\""
      ]
     },
     "metadata": {},
     "output_type": "display_data"
    }
   ],
   "source": [
    "# plot fitted line with scatter plots\n",
    "plot(df1$Bush2000, df1$Buchanan2000, col = \"blue\", main = \"Votes for George W. Bush and Pat Buchanan in all Florida counties\")\n",
    "abline(a=fit$coefficients[1],b=fit$coefficients[2], col = \"red\")"
   ]
  },
  {
   "cell_type": "markdown",
   "id": "c8dd6e38",
   "metadata": {},
   "source": [
    "## Obtain a 95% prediction interval for the number of Buchanan votes in Palm Beach from this result—assuming the relationship is the same in this county as in the others."
   ]
  },
  {
   "cell_type": "code",
   "execution_count": 62,
   "id": "b05a7d14",
   "metadata": {},
   "outputs": [
    {
     "data": {
      "text/html": [
       "<table>\n",
       "<thead><tr><th scope=col>County</th><th scope=col>Buchanan2000</th><th scope=col>Bush2000</th></tr></thead>\n",
       "<tbody>\n",
       "\t<tr><td>Palm Beach</td><td>3407      </td><td>152846    </td></tr>\n",
       "</tbody>\n",
       "</table>\n"
      ],
      "text/latex": [
       "\\begin{tabular}{r|lll}\n",
       " County & Buchanan2000 & Bush2000\\\\\n",
       "\\hline\n",
       "\t Palm Beach & 3407       & 152846    \\\\\n",
       "\\end{tabular}\n"
      ],
      "text/markdown": [
       "\n",
       "| County | Buchanan2000 | Bush2000 |\n",
       "|---|---|---|\n",
       "| Palm Beach | 3407       | 152846     |\n",
       "\n"
      ],
      "text/plain": [
       "  County     Buchanan2000 Bush2000\n",
       "1 Palm Beach 3407         152846  "
      ]
     },
     "metadata": {},
     "output_type": "display_data"
    }
   ],
   "source": [
    "# find corresponding number of Bush votes in Palm Beach\n",
    "df%>%\n",
    "filter(County ==\"Palm Beach\")"
   ]
  },
  {
   "cell_type": "code",
   "execution_count": 61,
   "id": "5349560b",
   "metadata": {},
   "outputs": [
    {
     "data": {
      "text/html": [
       "<table>\n",
       "<thead><tr><th scope=col>fit</th><th scope=col>lwr</th><th scope=col>upr</th></tr></thead>\n",
       "<tbody>\n",
       "\t<tr><td>597.7677</td><td>364.709 </td><td>830.8264</td></tr>\n",
       "</tbody>\n",
       "</table>\n"
      ],
      "text/latex": [
       "\\begin{tabular}{r|lll}\n",
       " fit & lwr & upr\\\\\n",
       "\\hline\n",
       "\t 597.7677 & 364.709  & 830.8264\\\\\n",
       "\\end{tabular}\n"
      ],
      "text/markdown": [
       "\n",
       "| fit | lwr | upr |\n",
       "|---|---|---|\n",
       "| 597.7677 | 364.709  | 830.8264 |\n",
       "\n"
      ],
      "text/plain": [
       "  fit      lwr     upr     \n",
       "1 597.7677 364.709 830.8264"
      ]
     },
     "metadata": {},
     "output_type": "display_data"
    }
   ],
   "source": [
    "# Prediction and Interval\n",
    "predict(fit, data.frame(Bush2000 = 152846),\n",
    "        interval = \"prediction\", level = .95)"
   ]
  },
  {
   "cell_type": "markdown",
   "id": "1742e0ea",
   "metadata": {},
   "source": [
    "## If it is assumed that Buchanan’s actual count contains a number of votes intended for Gore, what can be said about the likely size of this number from the prediction interval? (Consider transformation.)"
   ]
  },
  {
   "cell_type": "markdown",
   "id": "251e4473",
   "metadata": {},
   "source": [
    "## In that case, Buchanan votes would be expeted to be at least bigger than 831.(with 95% confidence)\n",
    "## Since Buchanan votes from Pam Beach was 3407>831. There is statistical evidence to show that Buchanan's actual count contains a number of votes intended for Gore or some other reasons."
   ]
  },
  {
   "cell_type": "code",
   "execution_count": 69,
   "id": "d7cc9d37",
   "metadata": {},
   "outputs": [],
   "source": [
    "# Lets Try log transformation\n",
    "logBush = log(df$Bush2000)\n",
    "logBuch = log(df$Buchanan2000)"
   ]
  },
  {
   "cell_type": "code",
   "execution_count": 66,
   "id": "7ccb5bdb",
   "metadata": {},
   "outputs": [],
   "source": [
    "fit1 <- lm(df$Buchanan2000~logBush)"
   ]
  },
  {
   "cell_type": "code",
   "execution_count": 67,
   "id": "afb695e6",
   "metadata": {},
   "outputs": [
    {
     "data": {
      "text/plain": [
       "\n",
       "Call:\n",
       "lm(formula = df$Buchanan2000 ~ logBush)\n",
       "\n",
       "Residuals:\n",
       "    Min      1Q  Median      3Q     Max \n",
       "-347.81 -158.44  -14.12   66.70 2777.48 \n",
       "\n",
       "Coefficients:\n",
       "            Estimate Std. Error t value Pr(>|t|)    \n",
       "(Intercept)  -1424.9      312.5  -4.560 2.32e-05 ***\n",
       "logBush        172.1       31.6   5.446 8.45e-07 ***\n",
       "---\n",
       "Signif. codes:  0 '***' 0.001 '**' 0.01 '*' 0.05 '.' 0.1 ' ' 1\n",
       "\n",
       "Residual standard error: 375.2 on 65 degrees of freedom\n",
       "Multiple R-squared:  0.3133,\tAdjusted R-squared:  0.3028 \n",
       "F-statistic: 29.66 on 1 and 65 DF,  p-value: 8.45e-07\n"
      ]
     },
     "metadata": {},
     "output_type": "display_data"
    }
   ],
   "source": [
    "summary(fit1)"
   ]
  },
  {
   "cell_type": "code",
   "execution_count": 70,
   "id": "31e3066f",
   "metadata": {},
   "outputs": [
    {
     "data": {
      "text/plain": [
       "\n",
       "Call:\n",
       "lm(formula = logBuch ~ logBush)\n",
       "\n",
       "Residuals:\n",
       "     Min       1Q   Median       3Q      Max \n",
       "-0.96075 -0.25949  0.01282  0.23826  1.66564 \n",
       "\n",
       "Coefficients:\n",
       "            Estimate Std. Error t value Pr(>|t|)    \n",
       "(Intercept) -2.57712    0.38919  -6.622 8.04e-09 ***\n",
       "logBush      0.75772    0.03936  19.251  < 2e-16 ***\n",
       "---\n",
       "Signif. codes:  0 '***' 0.001 '**' 0.01 '*' 0.05 '.' 0.1 ' ' 1\n",
       "\n",
       "Residual standard error: 0.4673 on 65 degrees of freedom\n",
       "Multiple R-squared:  0.8508,\tAdjusted R-squared:  0.8485 \n",
       "F-statistic: 370.6 on 1 and 65 DF,  p-value: < 2.2e-16\n"
      ]
     },
     "metadata": {},
     "output_type": "display_data"
    }
   ],
   "source": [
    "fit2 <-lm(logBuch~logBush)\n",
    "summary(fit2)"
   ]
  },
  {
   "cell_type": "code",
   "execution_count": 71,
   "id": "f2ebc3df",
   "metadata": {},
   "outputs": [
    {
     "data": {
      "text/plain": [
       "\n",
       "Call:\n",
       "lm(formula = logBuch ~ df$Bush2000)\n",
       "\n",
       "Residuals:\n",
       "    Min      1Q  Median      3Q     Max \n",
       "-2.5029 -0.4693  0.0841  0.5072  1.5205 \n",
       "\n",
       "Coefficients:\n",
       "             Estimate Std. Error t value Pr(>|t|)    \n",
       "(Intercept) 4.130e+00  1.185e-01  34.844  < 2e-16 ***\n",
       "df$Bush2000 1.625e-05  1.663e-06   9.769 2.24e-14 ***\n",
       "---\n",
       "Signif. codes:  0 '***' 0.001 '**' 0.01 '*' 0.05 '.' 0.1 ' ' 1\n",
       "\n",
       "Residual standard error: 0.77 on 65 degrees of freedom\n",
       "Multiple R-squared:  0.5948,\tAdjusted R-squared:  0.5886 \n",
       "F-statistic: 95.43 on 1 and 65 DF,  p-value: 2.24e-14\n"
      ]
     },
     "metadata": {},
     "output_type": "display_data"
    }
   ],
   "source": [
    "fit3<- lm(logBuch~df$Bush2000)\n",
    "summary(fit3)"
   ]
  },
  {
   "cell_type": "markdown",
   "id": "7199287a",
   "metadata": {},
   "source": [
    "## log-transformation on both features provides better R-square value."
   ]
  },
  {
   "cell_type": "code",
   "execution_count": 72,
   "id": "77d916f1",
   "metadata": {},
   "outputs": [
    {
     "data": {
      "image/png": "[encoded data removed]",
      "text/plain": [
       "Plot with title \"Votes for George W. Bush and Pat Buchanan in all Florida counties\""
      ]
     },
     "metadata": {},
     "output_type": "display_data"
    }
   ],
   "source": [
    "# scattor plot\n",
    "# plot fitted line with scatter plots\n",
    "plot(logBush, logBuch, col = \"blue\", main = \"Votes for George W. Bush and Pat Buchanan in all Florida counties\")\n",
    "abline(a=fit2$coefficients[1],b=fit2$coefficients[2], col = \"red\")"
   ]
  },
  {
   "cell_type": "code",
   "execution_count": null,
   "id": "73a38948",
   "metadata": {},
   "outputs": [],
   "source": []
  },
  {
   "cell_type": "code",
   "execution_count": null,
   "id": "99d2470d",
   "metadata": {},
   "outputs": [],
   "source": []
  }
 ],
 "metadata": {
  "kernelspec": {
   "display_name": "R",
   "language": "R",
   "name": "ir"
  },
  "language_info": {
   "codemirror_mode": "r",
   "file_extension": ".r",
   "mimetype": "text/x-r-source",
   "name": "R",
   "pygments_lexer": "r",
   "version": "3.6.1"
  }
 },
 "nbformat": 4,
 "nbformat_minor": 5
}
